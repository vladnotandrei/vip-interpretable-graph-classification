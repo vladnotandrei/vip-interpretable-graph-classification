{
 "cells": [
  {
   "cell_type": "code",
   "execution_count": 1,
   "metadata": {},
   "outputs": [
    {
     "name": "stdout",
     "output_type": "stream",
     "text": [
      "/home/vlad/Desktop/lmu_bachelor_thesis/code/VariationalInformationPursuit\n"
     ]
    }
   ],
   "source": [
    "# Only run once, unless restarting kernel\n",
    "import os\n",
    "os.chdir('../')\n",
    "print(os.getcwd())  # Should output the project folder"
   ]
  },
  {
   "cell_type": "code",
   "execution_count": 2,
   "metadata": {},
   "outputs": [],
   "source": [
    "import torch\n",
    "from arch.mutagenicity import QuerierMutagenicity, ClassifierMutagenicity"
   ]
  },
  {
   "cell_type": "code",
   "execution_count": 3,
   "metadata": {},
   "outputs": [],
   "source": [
    "device = torch.device('cpu')"
   ]
  },
  {
   "cell_type": "code",
   "execution_count": 4,
   "metadata": {},
   "outputs": [],
   "source": [
    "classifier = ClassifierMutagenicity(queryset_size=403)\n",
    "querier = QuerierMutagenicity(queryset_size=403, tau=1.0)"
   ]
  },
  {
   "cell_type": "code",
   "execution_count": 5,
   "metadata": {},
   "outputs": [],
   "source": [
    "PATH = './saved/y3fy898v/ckpt/epoch99.ckpt' \n",
    "ckpt = torch.load(PATH, weights_only=True, map_location=device)"
   ]
  },
  {
   "cell_type": "markdown",
   "metadata": {},
   "source": [
    "Since the model was trained with nn.DataParallel, and we called model.state_dict() in torch.save() instead of model.module.state_dict(), we still have that \"module.\" wrapper in from of the keys of the state_dict. Next time, save the state_dict correctly, but for now, we must remove the wrapper from the key names."
   ]
  },
  {
   "cell_type": "code",
   "execution_count": 6,
   "metadata": {},
   "outputs": [
    {
     "data": {
      "text/plain": [
       "<All keys matched successfully>"
      ]
     },
     "execution_count": 6,
     "metadata": {},
     "output_type": "execute_result"
    }
   ],
   "source": [
    "from collections import OrderedDict\n",
    "\n",
    "# Classifier\n",
    "state_dict = ckpt['classifier']\n",
    "new_state_dict = OrderedDict()\n",
    "\n",
    "for key, value in state_dict.items():\n",
    "    # Remove the 'module.' prefix if it exists\n",
    "    new_key = key.replace(\"module.\", \"\")\n",
    "    new_state_dict[new_key] = value\n",
    "\n",
    "classifier.load_state_dict(new_state_dict)\n",
    "\n",
    "# Querier\n",
    "state_dict = ckpt['querier']\n",
    "new_state_dict = OrderedDict()\n",
    "\n",
    "for key, value in state_dict.items():\n",
    "    # Remove the 'module.' prefix if it exists\n",
    "    new_key = key.replace(\"module.\", \"\")\n",
    "    new_state_dict[new_key] = value\n",
    "\n",
    "querier.load_state_dict(new_state_dict)"
   ]
  },
  {
   "cell_type": "code",
   "execution_count": 7,
   "metadata": {},
   "outputs": [
    {
     "data": {
      "text/plain": [
       "ClassifierMutagenicity(\n",
       "  (layer1): Linear(in_features=403, out_features=1000, bias=True)\n",
       "  (layer2): Linear(in_features=1000, out_features=1000, bias=True)\n",
       "  (classifier): Linear(in_features=1000, out_features=2, bias=True)\n",
       "  (relu): ReLU()\n",
       ")"
      ]
     },
     "execution_count": 7,
     "metadata": {},
     "output_type": "execute_result"
    }
   ],
   "source": [
    "classifier.eval()"
   ]
  },
  {
   "cell_type": "code",
   "execution_count": 8,
   "metadata": {},
   "outputs": [
    {
     "data": {
      "text/plain": [
       "QuerierMutagenicity(\n",
       "  (layer1): Linear(in_features=403, out_features=1000, bias=True)\n",
       "  (layer2): Linear(in_features=1000, out_features=1000, bias=True)\n",
       "  (classifier): Linear(in_features=1000, out_features=403, bias=True)\n",
       "  (relu): ReLU()\n",
       "  (softmax): Softmax(dim=-1)\n",
       ")"
      ]
     },
     "execution_count": 8,
     "metadata": {},
     "output_type": "execute_result"
    }
   ],
   "source": [
    "querier.eval()"
   ]
  },
  {
   "cell_type": "markdown",
   "metadata": {},
   "source": [
    "Load Mutagenicity dataset and queryset."
   ]
  },
  {
   "cell_type": "code",
   "execution_count": 9,
   "metadata": {},
   "outputs": [
    {
     "name": "stderr",
     "output_type": "stream",
     "text": [
      "/home/vlad/anaconda3/envs/vip_graphs/lib/python3.12/site-packages/torch/__config__.py:10: UserWarning: CUDA initialization: CUDA unknown error - this may be due to an incorrectly set up environment, e.g. changing env variable CUDA_VISIBLE_DEVICES after program start. Setting the available devices to be zero. (Triggered internally at /home/conda/feedstock_root/build_artifacts/libtorch_1729805341246/work/c10/cuda/CUDAFunctions.cpp:108.)\n",
      "  return torch._C._show_config()\n"
     ]
    },
    {
     "name": "stdout",
     "output_type": "stream",
     "text": [
      "Loading and processing Mutagenicity dataset for training...\n"
     ]
    },
    {
     "name": "stderr",
     "output_type": "stream",
     "text": [
      "100%|██████████| 4337/4337 [00:05<00:00, 853.29it/s]\n"
     ]
    },
    {
     "name": "stdout",
     "output_type": "stream",
     "text": [
      "Loading complete.\n"
     ]
    }
   ],
   "source": [
    "from dataset import load_mutagenicity_dataset, load_mutagenicity_queryset\n",
    "\n",
    "dataset_root = './data/Mutagenicity'\n",
    "queryset_root = './experiments/rdkit_querysets/queryset_1.csv'\n",
    "\n",
    "dataset = load_mutagenicity_dataset(dataset_root)\n",
    "queryset = load_mutagenicity_queryset(dataset_root, queryset_root, train_ratio=None)"
   ]
  },
  {
   "cell_type": "code",
   "execution_count": 169,
   "metadata": {},
   "outputs": [
    {
     "name": "stdout",
     "output_type": "stream",
     "text": [
      "Data(edge_index=[2, 58], x=[28, 14], edge_attr=[58, 3], y=[1], atom=[28], bonds=[58], mutagenicity='mutagen', num_undirected_edges=29)\n",
      "(tensor([ 1, -1, -1, -1, -1,  1, -1, -1, -1, -1, -1, -1, -1, -1, -1, -1, -1, -1,\n",
      "         1, -1, -1, -1, -1, -1, -1, -1, -1, -1,  1, -1, -1, -1, -1, -1,  1, -1,\n",
      "        -1,  1, -1, -1, -1, -1, -1, -1,  1, -1, -1, -1,  1, -1, -1, -1, -1, -1,\n",
      "        -1,  1, -1, -1, -1, -1,  1, -1, -1, -1, -1, -1,  1, -1, -1, -1, -1, -1,\n",
      "        -1, -1, -1, -1, -1,  1, -1, -1, -1, -1, -1, -1, -1, -1, -1,  1, -1, -1,\n",
      "         1, -1, -1, -1,  1, -1, -1, -1,  1, -1, -1, -1, -1, -1, -1, -1, -1,  1,\n",
      "        -1, -1, -1, -1, -1, -1, -1, -1, -1,  1, -1, -1, -1, -1, -1, -1,  1, -1,\n",
      "        -1, -1,  1, -1, -1, -1,  1, -1,  1, -1, -1, -1,  1, -1, -1,  1, -1, -1,\n",
      "         1, -1, -1,  1, -1, -1, -1, -1, -1, -1, -1, -1, -1, -1, -1,  1, -1, -1,\n",
      "        -1, -1, -1, -1, -1, -1, -1, -1, -1, -1, -1, -1, -1,  1, -1, -1, -1, -1,\n",
      "        -1, -1, -1, -1, -1,  1, -1, -1, -1,  1, -1, -1, -1, -1, -1, -1,  1, -1,\n",
      "        -1, -1, -1, -1,  1, -1, -1, -1, -1,  1, -1, -1,  1, -1, -1, -1, -1, -1,\n",
      "        -1, -1,  1, -1,  1, -1, -1, -1, -1, -1, -1, -1, -1, -1, -1, -1, -1,  1,\n",
      "        -1,  1, -1,  1, -1, -1, -1,  1, -1, -1, -1, -1, -1,  1, -1, -1, -1, -1,\n",
      "        -1, -1, -1, -1, -1, -1, -1,  1, -1, -1,  1, -1, -1,  1, -1, -1, -1, -1,\n",
      "        -1, -1, -1, -1, -1, -1, -1, -1, -1,  1, -1, -1,  1, -1, -1,  1, -1, -1,\n",
      "         1, -1, -1,  1, -1,  1, -1,  1, -1, -1, -1, -1,  1, -1, -1, -1, -1,  1,\n",
      "        -1,  1, -1, -1, -1,  1, -1, -1, -1, -1, -1,  1, -1, -1,  1, -1, -1, -1,\n",
      "         1, -1, -1,  1, -1,  1, -1, -1,  1, -1, -1, -1, -1,  1, -1, -1, -1, -1,\n",
      "        -1, -1,  1, -1, -1, -1, -1, -1, -1,  1, -1, -1,  1, -1, -1,  1, -1, -1,\n",
      "        -1,  1, -1, -1, -1,  1, -1, -1, -1,  1, -1, -1, -1,  1, -1,  1, -1, -1,\n",
      "         1, -1, -1,  1, -1, -1,  1, -1,  1, -1,  1, -1, -1,  1, -1, -1, -1,  1,\n",
      "        -1,  1, -1, -1,  1, -1, -1]), tensor(0), tensor(10))\n"
     ]
    }
   ],
   "source": [
    "idx = 10\n",
    "data = dataset[idx]\n",
    "query_answer = queryset[idx]\n",
    "\n",
    "print(data)\n",
    "print(query_answer)"
   ]
  },
  {
   "cell_type": "code",
   "execution_count": 170,
   "metadata": {},
   "outputs": [],
   "source": [
    "import mutagenicity_utils\n",
    "import numpy as np\n",
    "import ops"
   ]
  },
  {
   "cell_type": "code",
   "execution_count": 171,
   "metadata": {},
   "outputs": [
    {
     "data": {
      "image/png": "[encoded data removed]",
      "text/plain": [
       "<rdkit.Chem.rdchem.Mol at 0x7237f711fb50>"
      ]
     },
     "execution_count": 171,
     "metadata": {},
     "output_type": "execute_result"
    }
   ],
   "source": [
    "G = mutagenicity_utils.raw_to_nx(data)\n",
    "mol = mutagenicity_utils.nx_to_rdkit(G)\n",
    "\n",
    "mol"
   ]
  },
  {
   "cell_type": "code",
   "execution_count": 172,
   "metadata": {},
   "outputs": [
    {
     "name": "stdout",
     "output_type": "stream",
     "text": [
      "DEVICE: cpu\n"
     ]
    }
   ],
   "source": [
    "# cuda\n",
    "# device = torch.device('cuda') if torch.cuda.is_available() else torch.device('cpu')\n",
    "print('DEVICE:', device)\n",
    "\n",
    "# Vars\n",
    "N_QUERIES = 403\n",
    "max_queries_test = 20\n",
    "THRESHOLD = 0.85"
   ]
  },
  {
   "cell_type": "code",
   "execution_count": 173,
   "metadata": {},
   "outputs": [],
   "source": [
    "# epoch_test_qry_need = []\n",
    "# epoch_test_acc_max = 0\n",
    "# epoch_test_acc_ip = 0\n",
    "\n",
    "test_features = query_answer[0].to(device)\n",
    "test_labels = query_answer[1].to(device)\n",
    "\n",
    "# test_features = test_features.to(device)\n",
    "# test_labels = test_labels.to(device)\n",
    "# test_bs = test_features.shape[0]\n",
    "\n",
    "# Compute logits for all queries\n",
    "mask = torch.zeros(1, N_QUERIES).to(device)\n",
    "logits, queries = [], []\n",
    "for i in range(max_queries_test):\n",
    "    with torch.no_grad():\n",
    "        query = querier(test_features * mask, mask)\n",
    "        label_logits = classifier(test_features * (mask + query))\n",
    "\n",
    "    mask[np.arange(1), query.argmax(dim=1)] = 1.0\n",
    "    \n",
    "    logits.append(label_logits)\n",
    "    queries.append(query)   \n",
    "logits = torch.stack(logits).permute(1, 0, 2)\n",
    "\n",
    "# accuracy using all queries\n",
    "test_pred_max = logits[:, -1, :].argmax(dim=1).float()\n",
    "test_acc_max = (test_pred_max == test_labels.squeeze()).float().sum()\n",
    "\n",
    "# compute number of queries needed for prediction\n",
    "qry_need = ops.compute_queries_needed(logits, threshold=THRESHOLD)\n",
    "\n",
    "# accuracy using IP\n",
    "test_pred_ip = logits[torch.arange(len(qry_need)), qry_need-1].argmax(1)\n",
    "test_acc_ip = (test_pred_ip == test_labels.squeeze()).float().sum()"
   ]
  },
  {
   "cell_type": "code",
   "execution_count": 174,
   "metadata": {},
   "outputs": [],
   "source": [
    "import pandas as pd\n",
    "\n",
    "def get_query_name_list():\n",
    "    df = pd.read_csv('./experiments/rdkit_querysets/queryset_1.csv')\n",
    "    frag_func_name = df['frag_func_name'].to_list()\n",
    "    count_list = [eval(n) for n in df['count_list'].to_list()]\n",
    "\n",
    "    query_names = []\n",
    "    for frag, frag_counts in zip(frag_func_name, count_list):\n",
    "        for count in frag_counts:\n",
    "            name = f'{frag}={count}'\n",
    "            query_names.append(name)\n",
    "    return query_names"
   ]
  },
  {
   "cell_type": "code",
   "execution_count": 175,
   "metadata": {},
   "outputs": [],
   "source": [
    "q_ans_pairs = []\n",
    "for q in queries:\n",
    "    q_idx = torch.argmax(q).item()\n",
    "    q_name = get_query_name_list()[q_idx]\n",
    "    q_ans = query_answer[0][q_idx].item()\n",
    "    q_ans_pairs.append((q_name, q_ans))"
   ]
  },
  {
   "cell_type": "code",
   "execution_count": 176,
   "metadata": {},
   "outputs": [
    {
     "data": {
      "text/plain": [
       "[('fr_COO=0', 1),\n",
       " ('fr_NH0=0', -1),\n",
       " ('fr_Ndealkylation2=0', 1),\n",
       " ('fr_nitroso=0', 1),\n",
       " ('fr_benzene=0', -1),\n",
       " ('fr_bicyclic=1', -1),\n",
       " ('fr_ArN=0', 1),\n",
       " ('fr_bicyclic=0', 1),\n",
       " ('fr_Ar_OH=0', 1),\n",
       " ('fr_ester=0', 1),\n",
       " ('fr_nitrile=0', 1),\n",
       " ('fr_benzene=1', 1),\n",
       " ('fr_sulfonamd=0', 1),\n",
       " ('fr_Al_COO=0', 1),\n",
       " ('fr_C_O_noCOO=0', -1),\n",
       " ('fr_benzene=4', -1),\n",
       " ('fr_alkyl_halide=0', 1),\n",
       " ('fr_Ar_N=0', 1),\n",
       " ('fr_halogen=0', 1),\n",
       " ('fr_C_O_noCOO=1', 1)]"
      ]
     },
     "execution_count": 176,
     "metadata": {},
     "output_type": "execute_result"
    }
   ],
   "source": [
    "q_ans_pairs"
   ]
  },
  {
   "cell_type": "code",
   "execution_count": 177,
   "metadata": {},
   "outputs": [],
   "source": [
    "all_frag_counts = mutagenicity_utils.onehot_to_interpretable_dict(query_answer[0])\n",
    "frag_count_list = []\n",
    "for frag, count in all_frag_counts.items():\n",
    "    if count > 0:\n",
    "        frag_count_list.append((frag, count))"
   ]
  },
  {
   "cell_type": "code",
   "execution_count": 178,
   "metadata": {},
   "outputs": [
    {
     "data": {
      "text/plain": [
       "[('fr_C_O', 1),\n",
       " ('fr_C_O_noCOO', 1),\n",
       " ('fr_NH0', 1),\n",
       " ('fr_NH1', 1),\n",
       " ('fr_amide', 1),\n",
       " ('fr_aniline', 1),\n",
       " ('fr_benzene', 1),\n",
       " ('fr_thiophene', 1)]"
      ]
     },
     "execution_count": 178,
     "metadata": {},
     "output_type": "execute_result"
    }
   ],
   "source": [
    "frag_count_list"
   ]
  }
 ],
 "metadata": {
  "kernelspec": {
   "display_name": "vip_graphs",
   "language": "python",
   "name": "python3"
  },
  "language_info": {
   "codemirror_mode": {
    "name": "ipython",
    "version": 3
   },
   "file_extension": ".py",
   "mimetype": "text/x-python",
   "name": "python",
   "nbconvert_exporter": "python",
   "pygments_lexer": "ipython3",
   "version": "3.12.8"
  }
 },
 "nbformat": 4,
 "nbformat_minor": 2
}
