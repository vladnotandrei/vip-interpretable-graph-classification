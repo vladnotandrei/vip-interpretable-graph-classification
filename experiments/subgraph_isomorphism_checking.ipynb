{
 "cells": [
  {
   "cell_type": "code",
   "execution_count": 1,
   "metadata": {},
   "outputs": [],
   "source": [
    "import networkx as nx"
   ]
  },
  {
   "cell_type": "code",
   "execution_count": 7,
   "metadata": {},
   "outputs": [],
   "source": [
    "def recursive_local_expand(G, node_set, possible, excluded, results, max_size):\n",
    "        \"\"\"\n",
    "        Recursive function to add an extra node to the subgraph being formed\n",
    "        \"\"\"\n",
    "        results.append(node_set)\n",
    "        if len(node_set) == max_size:  # Should this be max_size + 1?\n",
    "            return\n",
    "        for node in possible - excluded:\n",
    "            new_node_set = node_set | {node}\n",
    "            excluded = excluded | {node}\n",
    "            new_possible = (possible | set(G.neighbors(node))) - excluded\n",
    "            recursive_local_expand(G, new_node_set, new_possible, excluded, results, max_size)\n",
    "\n",
    "\n",
    "def get_all_connected_subgraphs(G, min_motif_size, max_motif_size):\n",
    "    \"\"\"Get all connected subgraphs by a recursive procedure\"\"\"\n",
    "\n",
    "    # Connected components sorted in decreasing order by number of nodes\n",
    "    con_comp = [c for c in sorted(nx.connected_components(G), key=len, reverse=True)]  \n",
    "   \n",
    "    results = []\n",
    "    for cc in con_comp:\n",
    "        max_size = max_motif_size  #len(cc)\n",
    "\n",
    "        excluded = set()\n",
    "        for node in G:\n",
    "            excluded.add(node)\n",
    "            node_set = {node}\n",
    "            possible = set(G.neighbors(node)) - excluded\n",
    "            recursive_local_expand(G, node_set, possible, excluded, results, max_size)\n",
    "\n",
    "    results.sort(key=len)\n",
    "\n",
    "    results_no_single_nodes = [motif for motif in results if len(motif) > 1]\n",
    "\n",
    "    results_nx_objects = [G.subgraph(motif) for motif in results_no_single_nodes]\n",
    "\n",
    "    return results_no_single_nodes, results_nx_objects"
   ]
  },
  {
   "cell_type": "code",
   "execution_count": 8,
   "metadata": {},
   "outputs": [
    {
     "name": "stdout",
     "output_type": "stream",
     "text": [
      "[(0, {'atoms': 'H'}), (2, {'atoms': 'N'}), (1, {'atoms': 'H'}), (3, {'atoms': 'C'})]\n",
      "[(0, 2, {'bonds': 1}), (2, 1, {'bonds': 1}), (2, 3, {'bonds': 2})]\n"
     ]
    },
    {
     "data": {
      "image/png": "[encoded data removed]",
      "text/plain": [
       "<Figure size 640x480 with 1 Axes>"
      ]
     },
     "metadata": {},
     "output_type": "display_data"
    }
   ],
   "source": [
    "# Toy graph\n",
    "edgelist = [(0, 2), (1, 2), (2, 3)]\n",
    "A = nx.Graph(edgelist)\n",
    "\n",
    "A.nodes[0]['atoms'] = 'H'\n",
    "A.nodes[1]['atoms'] = 'H'\n",
    "A.nodes[2]['atoms'] = 'N'\n",
    "A.nodes[3]['atoms'] = 'C'\n",
    "\n",
    "A.edges[0, 2]['bonds'] = 1\n",
    "A.edges[1, 2]['bonds'] = 1\n",
    "A.edges[2, 3]['bonds'] = 2\n",
    "\n",
    "print(A.nodes.data())\n",
    "print(A.edges.data())\n",
    "nx.draw_networkx(A, with_labels=True)"
   ]
  },
  {
   "cell_type": "code",
   "execution_count": 9,
   "metadata": {},
   "outputs": [
    {
     "data": {
      "text/plain": [
       "([{0, 2}, {1, 2}, {2, 3}, {0, 1, 2}, {0, 2, 3}, {1, 2, 3}],\n",
       " [<networkx.classes.graph.Graph at 0x7346fa1487a0>,\n",
       "  <networkx.classes.graph.Graph at 0x7346fa1185c0>,\n",
       "  <networkx.classes.graph.Graph at 0x7346fa1186b0>,\n",
       "  <networkx.classes.graph.Graph at 0x7346fa118c80>,\n",
       "  <networkx.classes.graph.Graph at 0x7346fa1187a0>,\n",
       "  <networkx.classes.graph.Graph at 0x7346fab86fc0>])"
      ]
     },
     "execution_count": 9,
     "metadata": {},
     "output_type": "execute_result"
    }
   ],
   "source": [
    "get_all_connected_subgraphs(A, min_motif_size=2, max_motif_size=3)"
   ]
  }
 ],
 "metadata": {
  "kernelspec": {
   "display_name": "vip_graphs",
   "language": "python",
   "name": "python3"
  },
  "language_info": {
   "codemirror_mode": {
    "name": "ipython",
    "version": 3
   },
   "file_extension": ".py",
   "mimetype": "text/x-python",
   "name": "python",
   "nbconvert_exporter": "python",
   "pygments_lexer": "ipython3",
   "version": "3.12.8"
  }
 },
 "nbformat": 4,
 "nbformat_minor": 2
}
