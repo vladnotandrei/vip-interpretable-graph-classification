{
 "cells": [
  {
   "cell_type": "code",
   "execution_count": 1,
   "metadata": {},
   "outputs": [],
   "source": [
    "# Old model results\n",
    "\n",
    "# test_acc_fb = [0.7834101319313049, 0.7759815454483032, 0.7718893885612488, 0.7695852518081665, 0.7672811150550842, 0.7667436599731445, 0.7488479018211365, 0.7465437650680542, 0.7304147481918335, 0.7505773901939392]\n",
    "# test_acc_vql = [0.7806004285812378, 0.7667436599731445, 0.764976978302002, 0.7626727819442749, 0.7626727819442749, 0.7511520981788635, 0.7465437650680542, 0.7304147481918335, 0.7165898680686951, 0.7505773901939392]\n",
    "\n",
    "# qry_need_avg = [13.542725563049316, 12.622119903564453, 12.547344207763672, 12.437788009643555, 12.27419376373291, 12.073732376098633, 11.642857551574707, 11.004618644714355, 10.513824462890625, 6.200460910797119]\n",
    "# qry_need_std = [6.892245292663574, 6.576542377471924, 6.439344882965088, 6.421172618865967, 6.380547046661377, 6.283090591430664, 6.275720596313477, 6.132932662963867, 6.11980676651001, 5.9355058670043945]"
   ]
  },
  {
   "cell_type": "code",
   "execution_count": 7,
   "metadata": {},
   "outputs": [
    {
     "name": "stdout",
     "output_type": "stream",
     "text": [
      "[7.951111316680908, 7.822635650634766, 7.59948205947876, 7.4604363441467285, 7.30551815032959, 7.168332099914551, 7.1430182456970215, 6.99116325378418, 6.671790599822998, 6.647581577301025]\n"
     ]
    },
    {
     "data": {
      "text/plain": [
       "[7.951111316680908,\n",
       " 7.822635650634766,\n",
       " 7.59948205947876,\n",
       " 7.4604363441467285,\n",
       " 7.30551815032959,\n",
       " 7.168332099914551,\n",
       " 7.1430182456970215,\n",
       " 6.99116325378418,\n",
       " 6.671790599822998,\n",
       " 6.647581577301025]"
      ]
     },
     "execution_count": 7,
     "metadata": {},
     "output_type": "execute_result"
    }
   ],
   "source": [
    "text = \"\"\"\n",
    "500ep_cv_updated_qryset_fold=7_biased\t7.951111316680908\n",
    "500ep_cv_updated_qryset_fold=5_biased\t7.822635650634766\n",
    "500ep_cv_updated_qryset_fold=1_biased\t7.59948205947876\n",
    "500ep_cv_updated_qryset_fold=4_biased\t7.4604363441467285\n",
    "500ep_cv_updated_qryset_fold=3_biased\t7.30551815032959\n",
    "500ep_cv_updated_qryset_fold=8_biased\t7.168332099914551\n",
    "500ep_cv_updated_qryset_fold=9_biased\t7.1430182456970215\n",
    "500ep_cv_updated_qryset_fold=0_biased\t6.99116325378418\n",
    "500ep_cv_updated_qryset_fold=6_biased\t6.671790599822998\n",
    "500ep_cv_updated_qryset_fold=2_biased\t6.647581577301025\n",
    "\"\"\"\n",
    "\n",
    "# Turn text into list of just the values\n",
    "values = [float(line.split('\\t')[1]) for line in text.strip().split('\\n')]\n",
    "print(values)\n",
    "values"
   ]
  },
  {
   "cell_type": "code",
   "execution_count": 2,
   "metadata": {},
   "outputs": [],
   "source": [
    "test_acc_fb = [0.7926267385482788, 0.7903226017951965, 0.7857142686843872, 0.7806004285812378, 0.7736720442771912, 0.7695852518081665, 0.7672811150550842, 0.7511520981788635, 0.7390300035476685, 0.7327188849449158]\n",
    "test_acc_vql = [0.7972350120544434, 0.7806004285812378, 0.7788018584251404, 0.7736720442771912, 0.7718893885612488, 0.7603686451911926, 0.7598152160644531, 0.7511520981788635, 0.7396313548088074, 0.725806474685669]\n",
    "\n",
    "qry_need_avg = [14.316396713256836, 12.882217407226562, 12.401847839355469, 11.979262351989746, 11.723502159118652, 11.57603645324707, 11.35023021697998, 11.142857551574707, 11.103686332702637, 10.868663787841797]\n",
    "qry_need_std = [7.951111316680908, 7.822635650634766, 7.59948205947876, 7.4604363441467285, 7.30551815032959, 7.168332099914551, 7.1430182456970215, 6.99116325378418, 6.671790599822998, 6.647581577301025]"
   ]
  },
  {
   "cell_type": "code",
   "execution_count": 3,
   "metadata": {},
   "outputs": [
    {
     "name": "stdout",
     "output_type": "stream",
     "text": [
      "mean test acc fb: 76.8\n",
      "std test acc fb: 2.1\n",
      "\n",
      "mean test acc vql: 76.4\n",
      "std test acc vql: 2.1\n",
      "\n",
      "mean qry need avg: 11.9\n",
      "std qry need avg: 1.0\n",
      "\n",
      "mean qry need std: 7.3\n",
      "std qry need avg: 0.4\n"
     ]
    }
   ],
   "source": [
    "import numpy as np\n",
    "\n",
    "mean_test_acc_fb = np.mean(test_acc_fb) * 100\n",
    "std_test_acc_fb = np.std(test_acc_fb, ddof=1) * 100  # Sample std\n",
    "\n",
    "mean_test_acc_vql = np.mean(test_acc_vql) * 100\n",
    "std_test_acc_vql = np.std(test_acc_vql, ddof=1) * 100  # Sample std\n",
    "\n",
    "mean_qry_need_avg = np.mean(qry_need_avg)\n",
    "std_qry_need_avg = np.std(qry_need_avg, ddof=1)  # Sample std\n",
    "\n",
    "mean_qry_need_std = np.mean(qry_need_std)\n",
    "std_qry_need_std = np.std(qry_need_std, ddof=1)  # Sample std\n",
    "\n",
    "print(f'mean test acc fb: {mean_test_acc_fb:.1f}')\n",
    "print(f'std test acc fb: {std_test_acc_fb:.1f}')\n",
    "\n",
    "print(f'\\nmean test acc vql: {mean_test_acc_vql:.1f}')\n",
    "print(f'std test acc vql: {std_test_acc_vql:.1f}')\n",
    "\n",
    "print(f'\\nmean qry need avg: {mean_qry_need_avg:.1f}')\n",
    "print(f'std qry need avg: {std_qry_need_avg:.1f}')\n",
    "\n",
    "print(f'\\nmean qry need std: {mean_qry_need_std:.1f}')\n",
    "print(f'std qry need avg: {std_qry_need_std:.1f}')"
   ]
  }
 ],
 "metadata": {
  "kernelspec": {
   "display_name": "vip_graphs",
   "language": "python",
   "name": "python3"
  },
  "language_info": {
   "codemirror_mode": {
    "name": "ipython",
    "version": 3
   },
   "file_extension": ".py",
   "mimetype": "text/x-python",
   "name": "python",
   "nbconvert_exporter": "python",
   "pygments_lexer": "ipython3",
   "version": "3.12.8"
  }
 },
 "nbformat": 4,
 "nbformat_minor": 2
}
