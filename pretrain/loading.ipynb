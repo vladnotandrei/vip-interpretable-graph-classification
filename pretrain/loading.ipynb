{
 "cells": [
  {
   "cell_type": "code",
   "execution_count": null,
   "id": "c47bd03b",
   "metadata": {
    "ExecuteTime": {
     "end_time": "2023-03-08T04:45:31.238860Z",
     "start_time": "2023-03-08T04:45:31.236303Z"
    }
   },
   "outputs": [],
   "source": [
    "import os\n",
    "os.chdir('../')"
   ]
  },
  {
   "cell_type": "code",
   "execution_count": null,
   "id": "f6589a52",
   "metadata": {
    "ExecuteTime": {
     "end_time": "2023-03-08T04:45:33.050954Z",
     "start_time": "2023-03-08T04:45:31.240783Z"
    }
   },
   "outputs": [],
   "source": [
    "import torch\n",
    "import torch.nn as nn\n",
    "\n",
    "from arch.mnist import ClassifierMNIST, QuerierMNIST\n",
    "from arch.cifar10 import DLA\n",
    "from arch.news import NetworkNews\n",
    "from arch.cub import NetworkCUB"
   ]
  },
  {
   "cell_type": "markdown",
   "id": "b56d3a57",
   "metadata": {
    "ExecuteTime": {
     "end_time": "2023-03-08T04:37:15.872533Z",
     "start_time": "2023-03-08T04:37:15.870097Z"
    }
   },
   "source": [
    "## HuffingtonNews"
   ]
  },
  {
   "cell_type": "code",
   "execution_count": null,
   "id": "c4afa30a",
   "metadata": {
    "ExecuteTime": {
     "end_time": "2023-03-08T04:45:33.165598Z",
     "start_time": "2023-03-08T04:45:33.053034Z"
    }
   },
   "outputs": [],
   "source": [
    "ckpt = torch.load('./pretrain/news.pth', map_location='cpu')\n",
    "\n",
    "classifier = NetworkNews(query_size = 1000, output_size=10, eps=None)\n",
    "classifier = nn.DataParallel(classifier)\n",
    "classifier.load_state_dict(ckpt['classifier'])\n",
    "\n",
    "querier = NetworkNews(query_size = 1000, output_size=1000, eps=0.2)\n",
    "querier = nn.DataParallel(querier)\n",
    "querier.load_state_dict(ckpt['querier'])"
   ]
  },
  {
   "cell_type": "markdown",
   "id": "a7ae32b1",
   "metadata": {},
   "source": [
    "## CUB200"
   ]
  },
  {
   "cell_type": "code",
   "execution_count": null,
   "id": "4db25091",
   "metadata": {
    "ExecuteTime": {
     "end_time": "2023-03-08T04:45:33.221197Z",
     "start_time": "2023-03-08T04:45:33.170620Z"
    }
   },
   "outputs": [],
   "source": [
    "ckpt = torch.load('./pretrain/cub.pth', map_location='cpu')\n",
    "classifier = NetworkCUB(query_size=312, output_size=200, eps=None)\n",
    "classifier = nn.DataParallel(classifier)\n",
    "classifier.load_state_dict(ckpt['classifier'])\n",
    "\n",
    "\n",
    "querier = NetworkCUB(query_size=312, output_size=312, eps=0.2)\n",
    "querier = nn.DataParallel(querier)\n",
    "querier.load_state_dict(ckpt['querier'])"
   ]
  },
  {
   "cell_type": "markdown",
   "id": "147b747c",
   "metadata": {},
   "source": [
    "## CIFAR10"
   ]
  },
  {
   "cell_type": "code",
   "execution_count": null,
   "id": "85d981b2",
   "metadata": {
    "ExecuteTime": {
     "end_time": "2023-03-08T04:45:33.664114Z",
     "start_time": "2023-03-08T04:45:33.227472Z"
    }
   },
   "outputs": [],
   "source": [
    "ckpt = torch.load('./pretrain/cifar10.pth', map_location='cpu')\n",
    "classifier = DLA(num_classes=10)\n",
    "classifier = nn.DataParallel(classifier)\n",
    "classifier.load_state_dict(ckpt['classifier'])\n",
    "\n",
    "\n",
    "querier = DLA(num_classes=49, eps=0.2, resize_conv=True)\n",
    "querier = nn.DataParallel(querier)\n",
    "querier.load_state_dict(ckpt['querier'])"
   ]
  },
  {
   "cell_type": "markdown",
   "id": "cf8e6fa7",
   "metadata": {},
   "source": [
    "## MNIST/KMNIST/FashionMNIST"
   ]
  },
  {
   "cell_type": "code",
   "execution_count": null,
   "id": "bc9786df",
   "metadata": {
    "ExecuteTime": {
     "end_time": "2023-03-08T04:45:33.756175Z",
     "start_time": "2023-03-08T04:45:33.669438Z"
    }
   },
   "outputs": [],
   "source": [
    "# ckpt = torch.load('./pretrain/mnist.pth', map_location='cpu')\n",
    "# ckpt = torch.load('./pretrain/fashion_mnist.pth', map_location='cpu')\n",
    "ckpt = torch.load('./pretrain/kmnist.pth', map_location='cpu')\n",
    "\n",
    "classifier = ClassifierMNIST()\n",
    "classifier = nn.DataParallel(classifier)\n",
    "classifier.load_state_dict(ckpt['classifier'])\n",
    "\n",
    "querier = QuerierMNIST(num_classes=676, tau=0.2)\n",
    "querier = nn.DataParallel(querier)\n",
    "querier.load_state_dict(ckpt['querier'])"
   ]
  }
 ],
 "metadata": {
  "kernelspec": {
   "display_name": "mcr2",
   "language": "python",
   "name": "mcr2"
  },
  "language_info": {
   "codemirror_mode": {
    "name": "ipython",
    "version": 3
   },
   "file_extension": ".py",
   "mimetype": "text/x-python",
   "name": "python",
   "nbconvert_exporter": "python",
   "pygments_lexer": "ipython3",
   "version": "3.8.8"
  },
  "latex_envs": {
   "LaTeX_envs_menu_present": true,
   "autoclose": false,
   "autocomplete": true,
   "bibliofile": "biblio.bib",
   "cite_by": "apalike",
   "current_citInitial": 1,
   "eqLabelWithNumbers": true,
   "eqNumInitial": 1,
   "hotkeys": {
    "equation": "Ctrl-E",
    "itemize": "Ctrl-I"
   },
   "labels_anchors": false,
   "latex_user_defs": false,
   "report_style_numbering": false,
   "user_envs_cfg": false
  }
 },
 "nbformat": 4,
 "nbformat_minor": 5
}
